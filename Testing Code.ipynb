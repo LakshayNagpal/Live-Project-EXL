{
 "cells": [
  {
   "cell_type": "code",
   "execution_count": 94,
   "id": "divided-composer",
   "metadata": {},
   "outputs": [],
   "source": [
    "import re\n",
    "from namematcher import NameMatcher\n",
    "\n",
    "name_matcher = NameMatcher()"
   ]
  },
  {
   "cell_type": "code",
   "execution_count": 95,
   "id": "assumed-burning",
   "metadata": {},
   "outputs": [
    {
     "name": "stdout",
     "output_type": "stream",
     "text": [
      "0.9874999999999999\n"
     ]
    }
   ],
   "source": [
    "score = name_matcher.match_names('Nat Ahn', 'Natalie Ahn')\n",
    "print(score)"
   ]
  },
  {
   "cell_type": "code",
   "execution_count": 96,
   "id": "major-dryer",
   "metadata": {},
   "outputs": [
    {
     "name": "stdout",
     "output_type": "stream",
     "text": [
      "0.2220802083934297\n"
     ]
    }
   ],
   "source": [
    "score = name_matcher.match_names('Natalie Ahn', 'Gabrielle Elul')\n",
    "print(score)"
   ]
  },
  {
   "cell_type": "code",
   "execution_count": 97,
   "id": "ranking-mouse",
   "metadata": {},
   "outputs": [],
   "source": [
    "name_matcher = NameMatcher(distfun='levenshtein') # default\n",
    "name_matcher = NameMatcher(distfun='jaro_winkler')\n",
    "# name_matcher = NameMatcher(distfun=my_callable_function)"
   ]
  },
  {
   "cell_type": "code",
   "execution_count": 98,
   "id": "connected-great",
   "metadata": {},
   "outputs": [],
   "source": [
    "sample_names = ['Nat G. Ahn', 'John Doe', 'AJ Smith', 'Rob Smith']\n",
    "pop_names = ['Ahn, Natalie Grace', 'Ahn, Nancy G.', 'Smith, Adam Jr.', 'Smith, Peter Robert', 'Doe, Paul',\\\n",
    "             'Doh, John', 'Anh, Nathan', 'Smith, Albert III']"
   ]
  },
  {
   "cell_type": "code",
   "execution_count": 99,
   "id": "mineral-girlfriend",
   "metadata": {},
   "outputs": [
    {
     "name": "stdout",
     "output_type": "stream",
     "text": [
      "For name: Nat G. Ahn, best match: Ahn, Nancy G., score 0.972639\n",
      "For name: John Doe, best match: Doh, John, score 0.882667\n",
      "For name: AJ Smith, best match: Smith, Adam Jr., score 0.863333\n",
      "For name: Rob Smith, best match: Smith, Peter Robert, score 0.916250\n"
     ]
    }
   ],
   "source": [
    "matches = name_matcher.find_closest_names(sample_names, pop_names)\n",
    "for i in range(len(matches)):\n",
    "    orig_name = sample_names[i]\n",
    "    pop_name, pop_index, score = matches[i]\n",
    "    print('For name: %s, best match: %s, score %f' % (orig_name, pop_name, score))\n"
   ]
  },
  {
   "cell_type": "markdown",
   "id": "conservative-drive",
   "metadata": {},
   "source": [
    "### Additions to the code\n",
    "\n",
    "To change parameters, e.g. to reduce or eliminate the discount on a match between a first/middle initial and first/middle name. In the example above, \"Nat G. Ahn\" was matched to \"Ahn, Nancy G.\" though it should probably have matched \"Ahn, Natalie Grace\". That's because matching the middle initials \"G.\" and \"G.\" got a higher score than matching \"G.\" to \"Grace\". If we change the parameter'disc_initial' to be closer to 1, the name we want becomes the best match."
   ]
  },
  {
   "cell_type": "code",
   "execution_count": 100,
   "id": "nasty-ridge",
   "metadata": {},
   "outputs": [],
   "source": [
    "name_matcher.params['disc_initial'] = 0.9"
   ]
  },
  {
   "cell_type": "code",
   "execution_count": 101,
   "id": "enclosed-arrest",
   "metadata": {},
   "outputs": [
    {
     "name": "stdout",
     "output_type": "stream",
     "text": [
      "For name: Nat G. Ahn, best match: Ahn, Natalie Grace, score 0.981250\n",
      "For name: John Doe, best match: Doh, John, score 0.882667\n",
      "For name: AJ Smith, best match: Smith, Adam Jr., score 0.863333\n",
      "For name: Rob Smith, best match: Smith, Peter Robert, score 0.916250\n"
     ]
    }
   ],
   "source": [
    "matches = name_matcher.find_closest_names(sample_names, pop_names)\n",
    "for i in range(len(matches)):\n",
    "    orig_name = sample_names[i]\n",
    "    pop_name, pop_index, score = matches[i]\n",
    "    print('For name: %s, best match: %s, score %f' % (orig_name, pop_name, score))\n"
   ]
  },
  {
   "cell_type": "markdown",
   "id": "geographic-heavy",
   "metadata": {},
   "source": [
    "### Additions to the code\n",
    "\n",
    "\n",
    "We could also try reducing or eliminating the discount on an abbreviation (i.e. a shortened version of a first/middle name that's longer than an initial) so that \"Nat\" and \"Natalie\" are treated as a perfect or nearly perfect match (and the one-letter difference between \"Nat\" and \"Nancy\" drops that pair to second place)."
   ]
  },
  {
   "cell_type": "code",
   "execution_count": 102,
   "id": "therapeutic-fellow",
   "metadata": {},
   "outputs": [],
   "source": [
    "name_matcher.params['disc_initial'] = 0.8\n",
    "name_matcher.params['disc_abbrev'] = 0.99"
   ]
  },
  {
   "cell_type": "code",
   "execution_count": 103,
   "id": "accessible-cricket",
   "metadata": {},
   "outputs": [
    {
     "name": "stdout",
     "output_type": "stream",
     "text": [
      "For name: Nat G. Ahn, best match: Ahn, Nancy G., score 0.976750\n",
      "For name: John Doe, best match: Doh, John, score 0.882667\n",
      "For name: AJ Smith, best match: Smith, Adam Jr., score 0.870000\n",
      "For name: Rob Smith, best match: Smith, Peter Robert, score 0.923250\n"
     ]
    }
   ],
   "source": [
    "matches = name_matcher.find_closest_names(sample_names, pop_names)\n",
    "for i in range(len(matches)):\n",
    "    orig_name = sample_names[i]\n",
    "    pop_name, pop_index, score = matches[i]\n",
    "    print('For name: %s, best match: %s, score %f' % (orig_name, pop_name, score))\n"
   ]
  },
  {
   "cell_type": "code",
   "execution_count": null,
   "id": "constant-lambda",
   "metadata": {},
   "outputs": [],
   "source": []
  },
  {
   "cell_type": "code",
   "execution_count": 104,
   "id": "dental-aluminum",
   "metadata": {},
   "outputs": [],
   "source": [
    "try_matcher = NameMatcher(distfun='levenshtein')"
   ]
  },
  {
   "cell_type": "markdown",
   "id": "ordered-degree",
   "metadata": {},
   "source": [
    "Katherine Ann Labrecque <br>\n",
    "Mrs Katherine A Labrecque <br>\n",
    "Kathy Labrecque <br>\n",
    "Kathy Labrecque <br>\n",
    "\n",
    "<br> <br>\n",
    "Michael L Womack <br>\n",
    "Michael Lynn Womack <br>\n",
    "Mike Womack <br>\n",
    "Michael Womack <br>\n",
    "\n",
    " <br> <br>\n",
    "DEBORAH W O'BRIEN <br>\n",
    "DEBORAH-KA ARTZ <br>\n",
    "D.K. ARTZ <br>\n",
    "DEBORAH ARTZ <br>\n",
    "\n",
    " <br> <br>\n",
    "HARIRAM  GUPTA <br>\n",
    "HARRY BAWEJA <br>\n",
    "HARINDER SINGH BAWEJA <br>"
   ]
  },
  {
   "cell_type": "code",
   "execution_count": 105,
   "id": "given-digest",
   "metadata": {},
   "outputs": [
    {
     "name": "stdout",
     "output_type": "stream",
     "text": [
      "0.89\n"
     ]
    }
   ],
   "source": [
    "score = try_matcher.match_names('Katherine Ann Labrecque', 'Mrs Katherine A Labrecque')\n",
    "print(score)"
   ]
  },
  {
   "cell_type": "code",
   "execution_count": 106,
   "id": "legal-teens",
   "metadata": {},
   "outputs": [
    {
     "name": "stdout",
     "output_type": "stream",
     "text": [
      "0.9526663931344486\n"
     ]
    }
   ],
   "source": [
    "score = try_matcher.match_names('Katherine Ann Labrecque', 'Kathy Labrecque')\n",
    "print(score)"
   ]
  },
  {
   "cell_type": "code",
   "execution_count": 107,
   "id": "electoral-firewall",
   "metadata": {},
   "outputs": [
    {
     "name": "stdout",
     "output_type": "stream",
     "text": [
      "0.9500000000000001\n"
     ]
    }
   ],
   "source": [
    "score = try_matcher.match_names('Michael Lynn Womack', 'Michael L Womack')\n",
    "print(score)"
   ]
  },
  {
   "cell_type": "code",
   "execution_count": 108,
   "id": "geographic-horror",
   "metadata": {},
   "outputs": [
    {
     "name": "stdout",
     "output_type": "stream",
     "text": [
      "0.9874999999999999\n"
     ]
    }
   ],
   "source": [
    "score = try_matcher.match_names('Michael Lynn Womack', 'Michael Womack')\n",
    "print(score)"
   ]
  },
  {
   "cell_type": "code",
   "execution_count": 109,
   "id": "unlikely-championship",
   "metadata": {},
   "outputs": [
    {
     "name": "stdout",
     "output_type": "stream",
     "text": [
      "0.46246333362799064\n"
     ]
    }
   ],
   "source": [
    "# These names are different hence low scores\n",
    "score = try_matcher.match_names(\"DEBORAH W O'BRIEN\", 'DEBORAH-KA ARTZ')\n",
    "print(score)"
   ]
  },
  {
   "cell_type": "code",
   "execution_count": 110,
   "id": "continental-century",
   "metadata": {},
   "outputs": [
    {
     "name": "stdout",
     "output_type": "stream",
     "text": [
      "0.8925\n"
     ]
    }
   ],
   "source": [
    "score = try_matcher.match_names(\"DEBORAH-KA ARTZ\", 'D.K. ARTZ')\n",
    "print(score)"
   ]
  },
  {
   "cell_type": "code",
   "execution_count": 111,
   "id": "driving-optics",
   "metadata": {},
   "outputs": [
    {
     "name": "stdout",
     "output_type": "stream",
     "text": [
      "0.9874999999999999\n"
     ]
    }
   ],
   "source": [
    "score = try_matcher.match_names(\"DEBORAH-KA ARTZ\", 'DEBORAH ARTZ')\n",
    "print(score)"
   ]
  },
  {
   "cell_type": "code",
   "execution_count": 112,
   "id": "ignored-print",
   "metadata": {},
   "outputs": [
    {
     "name": "stdout",
     "output_type": "stream",
     "text": [
      "0.5053610070785122\n"
     ]
    }
   ],
   "source": [
    "# Since these names are different, scores are low\n",
    "score = try_matcher.match_names(\"HARIRAM GUPTA\", 'HARRY BAWEJA')\n",
    "print(score)"
   ]
  },
  {
   "cell_type": "code",
   "execution_count": 113,
   "id": "united-journey",
   "metadata": {},
   "outputs": [
    {
     "name": "stdout",
     "output_type": "stream",
     "text": [
      "0.9245673292645868\n"
     ]
    }
   ],
   "source": [
    "score = try_matcher.match_names(\"HARINDER SINGH BAWEJA\", 'HARRY BAWEJA')\n",
    "print(score)"
   ]
  },
  {
   "cell_type": "code",
   "execution_count": 114,
   "id": "changing-heavy",
   "metadata": {},
   "outputs": [
    {
     "name": "stdout",
     "output_type": "stream",
     "text": [
      "0.8956224582817963\n"
     ]
    }
   ],
   "source": [
    "score = try_matcher.match_names('Abigail Timothy', 'Abbie Timothy')\n",
    "print(score)"
   ]
  },
  {
   "cell_type": "code",
   "execution_count": 115,
   "id": "constant-victory",
   "metadata": {},
   "outputs": [
    {
     "name": "stdout",
     "output_type": "stream",
     "text": [
      "0.18906015629507225\n"
     ]
    }
   ],
   "source": [
    "# This is fetching us very low scores\n",
    "score = try_matcher.match_names('Kenneth Irvine Chenault', 'KIC')\n",
    "print(score)"
   ]
  },
  {
   "cell_type": "code",
   "execution_count": 116,
   "id": "exclusive-rebound",
   "metadata": {},
   "outputs": [
    {
     "name": "stdout",
     "output_type": "stream",
     "text": [
      "0.2294714728255649\n"
     ]
    }
   ],
   "source": [
    "# This is fetching us very low scores\n",
    "score = try_matcher.match_names('NEENA  JAIN', 'NEENA GROVER')\n",
    "print(score)"
   ]
  },
  {
   "cell_type": "code",
   "execution_count": 117,
   "id": "polished-agenda",
   "metadata": {},
   "outputs": [
    {
     "name": "stdout",
     "output_type": "stream",
     "text": [
      "0.7050000000000001\n"
     ]
    }
   ],
   "source": [
    "score = try_matcher.match_names('Nick Jr', 'Nick')\n",
    "print(score)"
   ]
  },
  {
   "cell_type": "code",
   "execution_count": 118,
   "id": "reliable-weight",
   "metadata": {},
   "outputs": [
    {
     "name": "stdout",
     "output_type": "stream",
     "text": [
      "0.6586917501586543\n"
     ]
    }
   ],
   "source": [
    "score = try_matcher.match_names('Steven', 'Stephen')\n",
    "print(score)"
   ]
  },
  {
   "cell_type": "markdown",
   "id": "wooden-collective",
   "metadata": {},
   "source": [
    "### See how this scores changes after changing the weights"
   ]
  },
  {
   "cell_type": "code",
   "execution_count": 119,
   "id": "white-titanium",
   "metadata": {},
   "outputs": [],
   "source": [
    "# Giving higher weights to Suffixes\n",
    "try_matcher.params['weights'][2] = 0.5"
   ]
  },
  {
   "cell_type": "code",
   "execution_count": 120,
   "id": "informed-telling",
   "metadata": {},
   "outputs": [
    {
     "name": "stdout",
     "output_type": "stream",
     "text": [
      "0.91\n"
     ]
    }
   ],
   "source": [
    "score = try_matcher.match_names('Nick Jr', 'Nick')\n",
    "print(score)"
   ]
  },
  {
   "cell_type": "code",
   "execution_count": 121,
   "id": "historical-daily",
   "metadata": {},
   "outputs": [
    {
     "name": "stdout",
     "output_type": "stream",
     "text": [
      "1.0686917501586544\n"
     ]
    }
   ],
   "source": [
    "# Phonetics is working\n",
    "score = try_matcher.match_names('Steven', 'Stephen')\n",
    "print(score)"
   ]
  },
  {
   "cell_type": "markdown",
   "id": "flush-citizen",
   "metadata": {},
   "source": [
    "### Cases which are not working"
   ]
  },
  {
   "cell_type": "code",
   "execution_count": 122,
   "id": "brief-uganda",
   "metadata": {},
   "outputs": [
    {
     "name": "stdout",
     "output_type": "stream",
     "text": [
      "0.5990601562950723\n"
     ]
    }
   ],
   "source": [
    "# This score is after increasing the weight but the score is still low\n",
    "score = try_matcher.match_names('Kenneth Irvine Chenault', 'KIC')\n",
    "print(score)"
   ]
  },
  {
   "cell_type": "code",
   "execution_count": 123,
   "id": "trained-district",
   "metadata": {},
   "outputs": [
    {
     "name": "stdout",
     "output_type": "stream",
     "text": [
      "0.6394714728255649\n"
     ]
    }
   ],
   "source": [
    "# This score is after increasing the weight but the score is still low\n",
    "score = try_matcher.match_names('NEENA  JAIN', 'NEENA GROVER')\n",
    "print(score)"
   ]
  },
  {
   "cell_type": "code",
   "execution_count": null,
   "id": "respected-space",
   "metadata": {},
   "outputs": [],
   "source": []
  }
 ],
 "metadata": {
  "kernelspec": {
   "display_name": "Python 3",
   "language": "python",
   "name": "python3"
  },
  "language_info": {
   "codemirror_mode": {
    "name": "ipython",
    "version": 3
   },
   "file_extension": ".py",
   "mimetype": "text/x-python",
   "name": "python",
   "nbconvert_exporter": "python",
   "pygments_lexer": "ipython3",
   "version": "3.7.6"
  }
 },
 "nbformat": 4,
 "nbformat_minor": 5
}
